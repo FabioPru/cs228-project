{
 "cells": [
  {
   "cell_type": "code",
   "execution_count": 18,
   "metadata": {
    "ExecuteTime": {
     "end_time": "2020-03-17T16:23:29.860841Z",
     "start_time": "2020-03-17T16:23:29.858499Z"
    }
   },
   "outputs": [],
   "source": [
    "import numpy as np\n",
    "import random"
   ]
  },
  {
   "cell_type": "code",
   "execution_count": 27,
   "metadata": {
    "ExecuteTime": {
     "end_time": "2020-03-17T16:23:55.346246Z",
     "start_time": "2020-03-17T16:23:55.342904Z"
    }
   },
   "outputs": [],
   "source": [
    "np.random.seed(228)\n",
    "\n",
    "def randbit(shape=None):\n",
    "    if shape is None:\n",
    "        return random.randint(0, 1)\n",
    "    return np.random.randint(0, 2, shape)"
   ]
  },
  {
   "cell_type": "code",
   "execution_count": 84,
   "metadata": {
    "ExecuteTime": {
     "end_time": "2020-03-17T19:50:13.666951Z",
     "start_time": "2020-03-17T19:50:13.663400Z"
    }
   },
   "outputs": [],
   "source": [
    "def gen(generator, no_samples):\n",
    "    samples = [pt for pt in generator(no_samples)]\n",
    "    X = np.array([x for x, _ in samples])\n",
    "    y = np.array([y for _, y in samples])\n",
    "    return X, y"
   ]
  },
  {
   "cell_type": "code",
   "execution_count": 155,
   "metadata": {
    "ExecuteTime": {
     "end_time": "2020-03-17T20:20:29.591527Z",
     "start_time": "2020-03-17T20:20:29.585123Z"
    }
   },
   "outputs": [],
   "source": [
    "def make_conj(n=5000, k=2500):\n",
    "    '''Generate a random conjunction over n literals of k terms\n",
    "    Returns a pair (truth, generator):\n",
    "    - truth is a list of the literal indices in [0, n) in the clause\n",
    "    - generator yields positive examples with probability 1/2\n",
    "    and negative examples with probability 1/2, each sampled uniformly\n",
    "    over D+ and D-\n",
    "    '''\n",
    "    \n",
    "    a = np.arange(n)\n",
    "    np.random.shuffle(a)\n",
    "    truth = a[:k]\n",
    "    \n",
    "    def generator(sz=None):\n",
    "        nonlocal truth\n",
    "        no = 0\n",
    "        while True:\n",
    "            if randbit() == 1:\n",
    "                # True example\n",
    "                ex = randbit((n,))\n",
    "                for idx in truth:\n",
    "                    ex[idx] = 1\n",
    "                yield ex, 1\n",
    "            else:\n",
    "                # False example\n",
    "                flag = 0\n",
    "                while flag == 0:\n",
    "                    ex = randbit((n,))\n",
    "                    for idx in truth:\n",
    "                        if ex[idx] == 0:\n",
    "                            yield ex, 0\n",
    "                            flag = 1\n",
    "                            break\n",
    "            no += 1\n",
    "            if no == sz:\n",
    "                break\n",
    "    \n",
    "    return truth, generator"
   ]
  },
  {
   "cell_type": "code",
   "execution_count": 174,
   "metadata": {
    "ExecuteTime": {
     "end_time": "2020-03-17T20:23:02.039961Z",
     "start_time": "2020-03-17T20:23:02.027593Z"
    }
   },
   "outputs": [],
   "source": [
    "def make_dnf(n=5000, k=50, m=50):\n",
    "    '''Generate a random DNF over n literals of k terms each with m literals.\n",
    "    Literals might be repeated in multiple terms.\n",
    "    Returns a pair (truth, generator):\n",
    "    - truth is a list of lists of literal indices\n",
    "    - generator yields positive examples with probability 1/2\n",
    "    and negative examples with probability 1/2, each sampled uniformly\n",
    "    over D+ and D-\n",
    "    '''\n",
    "    \n",
    "    a = np.arange(n)\n",
    "    truth = []\n",
    "    for _ in range(k):\n",
    "        np.random.shuffle(a)\n",
    "        truth.append(a[:m].copy())\n",
    "    truth = np.array(truth)\n",
    "    \n",
    "    def generator(sz=None):\n",
    "        nonlocal truth, k\n",
    "        no = 0\n",
    "        while True:\n",
    "            if randbit() == 1:\n",
    "                # True example; it's enough to make one literal at random sat\n",
    "                ex = randbit((n,))\n",
    "                for idx in truth[random.randint(0, k-1)]:\n",
    "                    ex[idx] = 1\n",
    "                yield ex, 1\n",
    "            else:\n",
    "                # False example; discard if it's true\n",
    "                flag = 0\n",
    "                while flag == 0:\n",
    "                    flag = 1\n",
    "                    ex = randbit((n,))\n",
    "                    for lit in truth:\n",
    "                        alltrue = 1\n",
    "                        for idx in lit:\n",
    "                            if ex[idx] == 0:\n",
    "                                alltrue = 0\n",
    "                                break\n",
    "                        # At least one literal yields false\n",
    "                        if alltrue:\n",
    "                            flag = 0\n",
    "                            break\n",
    "                        \n",
    "                    if flag == 1:\n",
    "                        yield ex, 0\n",
    "                        break\n",
    "            no += 1\n",
    "            if no == sz:\n",
    "                break\n",
    "    \n",
    "    return truth, generator"
   ]
  },
  {
   "cell_type": "code",
   "execution_count": 210,
   "metadata": {
    "ExecuteTime": {
     "end_time": "2020-03-17T20:38:45.581555Z",
     "start_time": "2020-03-17T20:38:45.574757Z"
    }
   },
   "outputs": [],
   "source": [
    "def make_dl(n=5000, k=2500):\n",
    "    '''Generate a random 1-decision list over n literals of k terms.\n",
    "    Returns a pair (truth, generator):\n",
    "    - truth is a pair (indices, bit_values, default)\n",
    "    - generator yields positive examples with probability 1/2\n",
    "    and negative examples with probability 1/2, each sampled uniformly\n",
    "    over D+ and D-\n",
    "    '''\n",
    "    \n",
    "    a = np.arange(n)\n",
    "    np.random.shuffle(a)\n",
    "    truth = a[:k], randbit((k, )), randbit()\n",
    "    \n",
    "    def ev(x, truth):\n",
    "        for xn, b in zip(truth[0], truth[1]):\n",
    "            if x[xn] == 1:\n",
    "                return b\n",
    "        return truth[2]\n",
    "    \n",
    "    def generator(sz=None):\n",
    "        nonlocal truth, ev\n",
    "        no = 0\n",
    "        while True:\n",
    "            out = randbit()\n",
    "            while True:\n",
    "                ex = randbit((n,))\n",
    "                val = ev(ex, truth)\n",
    "                if out == val:\n",
    "                    yield ex, val\n",
    "                    no += 1\n",
    "                    break\n",
    "            \n",
    "            if no == sz:\n",
    "                break\n",
    "    \n",
    "    return truth, generator"
   ]
  },
  {
   "cell_type": "code",
   "execution_count": 237,
   "metadata": {
    "ExecuteTime": {
     "end_time": "2020-03-19T09:40:52.374021Z",
     "start_time": "2020-03-19T09:40:52.370855Z"
    }
   },
   "outputs": [],
   "source": [
    "def eval_dnf(x, dnf):\n",
    "    print(np.dot(x, dnf))\n",
    "    return not (np.dot(x, dnf)).any()"
   ]
  },
  {
   "cell_type": "code",
   "execution_count": 238,
   "metadata": {
    "ExecuteTime": {
     "end_time": "2020-03-19T09:40:52.750189Z",
     "start_time": "2020-03-19T09:40:52.741968Z"
    }
   },
   "outputs": [
    {
     "name": "stdout",
     "output_type": "stream",
     "text": [
      "1\n"
     ]
    },
    {
     "data": {
      "text/plain": [
       "False"
      ]
     },
     "execution_count": 238,
     "metadata": {},
     "output_type": "execute_result"
    }
   ],
   "source": [
    "eval_dnf(np.array([1, 1, 0, 0, 1]),\n",
    "         np.array([1, 0, 1, 0, 0]))"
   ]
  },
  {
   "cell_type": "code",
   "execution_count": 239,
   "metadata": {
    "ExecuteTime": {
     "end_time": "2020-03-19T09:41:17.260301Z",
     "start_time": "2020-03-19T09:41:17.206751Z"
    }
   },
   "outputs": [
    {
     "ename": "AttributeError",
     "evalue": "'int' object has no attribute 'any'",
     "output_type": "error",
     "traceback": [
      "\u001b[0;31m---------------------------------------------------------------------------\u001b[0m",
      "\u001b[0;31mAttributeError\u001b[0m                            Traceback (most recent call last)",
      "\u001b[0;32m<ipython-input-239-62021340c86f>\u001b[0m in \u001b[0;36m<module>\u001b[0;34m\u001b[0m\n\u001b[0;32m----> 1\u001b[0;31m \u001b[0;34m(\u001b[0m\u001b[0;36m1\u001b[0m\u001b[0;34m)\u001b[0m\u001b[0;34m.\u001b[0m\u001b[0many\u001b[0m\u001b[0;34m(\u001b[0m\u001b[0;34m)\u001b[0m\u001b[0;34m\u001b[0m\u001b[0;34m\u001b[0m\u001b[0m\n\u001b[0m",
      "\u001b[0;31mAttributeError\u001b[0m: 'int' object has no attribute 'any'"
     ]
    }
   ],
   "source": [
    "(1).any()"
   ]
  },
  {
   "cell_type": "code",
   "execution_count": 211,
   "metadata": {
    "ExecuteTime": {
     "end_time": "2020-03-17T20:38:45.895062Z",
     "start_time": "2020-03-17T20:38:45.892148Z"
    }
   },
   "outputs": [],
   "source": [
    "truth, generator = make_dl()"
   ]
  },
  {
   "cell_type": "code",
   "execution_count": 213,
   "metadata": {
    "ExecuteTime": {
     "end_time": "2020-03-17T20:38:49.705253Z",
     "start_time": "2020-03-17T20:38:46.766472Z"
    }
   },
   "outputs": [],
   "source": [
    "X_tr, y_tr = gen(generator, 10000)\n",
    "X_ts, y_ts = gen(generator, 10000)"
   ]
  },
  {
   "cell_type": "code",
   "execution_count": 230,
   "metadata": {
    "ExecuteTime": {
     "end_time": "2020-03-17T20:45:56.487326Z",
     "start_time": "2020-03-17T20:45:56.483869Z"
    }
   },
   "outputs": [
    {
     "data": {
      "text/plain": [
       "(10000, 5000)"
      ]
     },
     "execution_count": 230,
     "metadata": {},
     "output_type": "execute_result"
    }
   ],
   "source": [
    "X_tr.shape"
   ]
  },
  {
   "cell_type": "code",
   "execution_count": 234,
   "metadata": {
    "ExecuteTime": {
     "end_time": "2020-03-17T20:47:23.911710Z",
     "start_time": "2020-03-17T20:46:50.492025Z"
    }
   },
   "outputs": [
    {
     "name": "stderr",
     "output_type": "stream",
     "text": [
      "/Users/fabiopruneri/Documents/anaconda3/lib/python3.7/site-packages/sklearn/neural_network/multilayer_perceptron.py:566: ConvergenceWarning: Stochastic Optimizer: Maximum iterations (50) reached and the optimization hasn't converged yet.\n",
      "  % self.max_iter, ConvergenceWarning)\n"
     ]
    },
    {
     "data": {
      "text/plain": [
       "0.801"
      ]
     },
     "execution_count": 234,
     "metadata": {},
     "output_type": "execute_result"
    }
   ],
   "source": [
    "from sklearn.neural_network import MLPClassifier\n",
    "\n",
    "MLPClassifier(max_iter=50).fit(X_tr, y_tr).score(X_ts, y_ts)"
   ]
  },
  {
   "cell_type": "code",
   "execution_count": null,
   "metadata": {},
   "outputs": [],
   "source": []
  }
 ],
 "metadata": {
  "kernelspec": {
   "display_name": "Python 3",
   "language": "python",
   "name": "python3"
  },
  "language_info": {
   "codemirror_mode": {
    "name": "ipython",
    "version": 3
   },
   "file_extension": ".py",
   "mimetype": "text/x-python",
   "name": "python",
   "nbconvert_exporter": "python",
   "pygments_lexer": "ipython3",
   "version": "3.7.4"
  },
  "latex_envs": {
   "LaTeX_envs_menu_present": true,
   "autoclose": true,
   "autocomplete": true,
   "bibliofile": "biblio.bib",
   "cite_by": "apalike",
   "current_citInitial": 1,
   "eqLabelWithNumbers": true,
   "eqNumInitial": 1,
   "hotkeys": {
    "equation": "Ctrl-E",
    "itemize": "Ctrl-I"
   },
   "labels_anchors": false,
   "latex_user_defs": false,
   "report_style_numbering": false,
   "user_envs_cfg": false
  },
  "nbTranslate": {
   "displayLangs": [
    "*"
   ],
   "hotkey": "alt-t",
   "langInMainMenu": true,
   "sourceLang": "en",
   "targetLang": "fr",
   "useGoogleTranslate": true
  }
 },
 "nbformat": 4,
 "nbformat_minor": 2
}
